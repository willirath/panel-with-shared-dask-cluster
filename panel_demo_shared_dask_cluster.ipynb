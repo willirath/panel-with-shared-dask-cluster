{
 "cells": [
  {
   "cell_type": "markdown",
   "metadata": {},
   "source": [
    "# Tech preamble"
   ]
  },
  {
   "cell_type": "code",
   "execution_count": null,
   "metadata": {},
   "outputs": [],
   "source": [
    "import numpy as np\n",
    "from dask import array as darr\n",
    "import xarray as xr\n",
    "import panel as pn\n",
    "pn.extension()\n",
    "from matplotlib import pyplot as plt\n",
    "import hvplot.xarray\n",
    "from dask.distributed import Client, LocalCluster\n",
    "\n",
    "import socket"
   ]
  },
  {
   "cell_type": "markdown",
   "metadata": {},
   "source": [
    "## Set up cluster or connect to existing one\n",
    "\n",
    "This should significantly speed up multiple sessions as it will avoid duplication of the compute layer.  In production, we'd want to have an autoscaling cluster that is probably best started separately."
   ]
  },
  {
   "cell_type": "code",
   "execution_count": null,
   "metadata": {},
   "outputs": [],
   "source": [
    "# parameters\n",
    "cluster_host = \"127.0.0.1\"\n",
    "cluster_port = 12345"
   ]
  },
  {
   "cell_type": "code",
   "execution_count": null,
   "metadata": {},
   "outputs": [],
   "source": [
    "def is_port_in_use(host, port):\n",
    "    import socket\n",
    "    with socket.socket(socket.AF_INET, socket.SOCK_STREAM) as s:\n",
    "        return s.connect_ex((host, port)) == 0"
   ]
  },
  {
   "cell_type": "code",
   "execution_count": null,
   "metadata": {},
   "outputs": [],
   "source": [
    "if not is_port_in_use(cluster_host, cluster_port):\n",
    "    cluster = LocalCluster(\n",
    "        host=f\"tcp://{cluster_host}:{cluster_port}\",\n",
    "        threads_per_worker=1, n_workers=1, memory_limit=1e9\n",
    "    )\n",
    "else:\n",
    "    cluster = f\"tcp://{cluster_host}:{cluster_port}\"\n",
    "client = Client(cluster)"
   ]
  },
  {
   "cell_type": "code",
   "execution_count": null,
   "metadata": {},
   "outputs": [],
   "source": [
    "client"
   ]
  },
  {
   "cell_type": "markdown",
   "metadata": {},
   "source": [
    "## Make up some data"
   ]
  },
  {
   "cell_type": "code",
   "execution_count": null,
   "metadata": {},
   "outputs": [],
   "source": [
    "temp = xr.DataArray(\n",
    "    darr.random.normal(size=(30, 10, 180, 360), chunks=(10, 1, 60, 60)),\n",
    "    dims=(\"t\", \"z\", \"y\", \"x\")\n",
    ")  #.compute()\n",
    "temp"
   ]
  },
  {
   "cell_type": "code",
   "execution_count": null,
   "metadata": {},
   "outputs": [],
   "source": [
    "temp.nbytes / 1e9"
   ]
  },
  {
   "cell_type": "markdown",
   "metadata": {},
   "source": [
    "## Define a plot and add to panel"
   ]
  },
  {
   "cell_type": "code",
   "execution_count": null,
   "metadata": {},
   "outputs": [],
   "source": [
    "def hv_plot(data):\n",
    "    return data.hvplot.line()\n",
    "\n",
    "\n",
    "def plot_time_series_at(data=temp, x=180, y=90, z=5, view_fn=hv_plot):\n",
    "    return view_fn(\n",
    "        data.isel(x=x, y=y)\n",
    "    )"
   ]
  },
  {
   "cell_type": "code",
   "execution_count": null,
   "metadata": {},
   "outputs": [],
   "source": [
    "pn.interact(\n",
    "    plot_time_series_at,\n",
    "    x=pn.widgets.IntSlider(start=0, end=359, step=1, value=180),\n",
    "    y=pn.widgets.IntSlider(start=0, end=180, step=1, value=90),\n",
    "    z=pn.widgets.IntSlider(start=0, end=9, step=1, value=5)\n",
    ").servable()"
   ]
  }
 ],
 "metadata": {
  "kernelspec": {
   "display_name": "Python 3",
   "language": "python",
   "name": "python3"
  },
  "language_info": {
   "codemirror_mode": {
    "name": "ipython",
    "version": 3
   },
   "file_extension": ".py",
   "mimetype": "text/x-python",
   "name": "python",
   "nbconvert_exporter": "python",
   "pygments_lexer": "ipython3",
   "version": "3.7.6"
  }
 },
 "nbformat": 4,
 "nbformat_minor": 4
}
